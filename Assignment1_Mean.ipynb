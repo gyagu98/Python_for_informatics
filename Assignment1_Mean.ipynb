{
 "cells": [
  {
   "cell_type": "markdown",
   "id": "2c090513-2c49-4ee9-9c86-f77b30a8d0ad",
   "metadata": {},
   "source": [
    "# Assignment #1: Mean calculations\n",
    "## G. Yagudayeva \n",
    "### Jan 16, 2025"
   ]
  },
  {
   "cell_type": "code",
   "execution_count": 1,
   "id": "aa919f49-c97a-442e-8669-fb73c041d60d",
   "metadata": {},
   "outputs": [
    {
     "name": "stdin",
     "output_type": "stream",
     "text": [
      "Enter the first number:  1\n"
     ]
    },
    {
     "data": {
      "text/plain": [
       "1"
      ]
     },
     "execution_count": 1,
     "metadata": {},
     "output_type": "execute_result"
    }
   ],
   "source": [
    "value1 = float(input(\"First number: \"))\n",
    "1"
   ]
  },
  {
   "cell_type": "code",
   "execution_count": 3,
   "id": "6b268e3f-7ed8-4ac7-aa10-256623ebf18f",
   "metadata": {},
   "outputs": [
    {
     "name": "stdin",
     "output_type": "stream",
     "text": [
      "Second number:  2\n"
     ]
    }
   ],
   "source": [
    "value2 = float(input(\"Second number: \"))"
   ]
  },
  {
   "cell_type": "code",
   "execution_count": 5,
   "id": "636fadd0-597a-4705-bd72-eaf7ecf9188c",
   "metadata": {},
   "outputs": [
    {
     "name": "stdin",
     "output_type": "stream",
     "text": [
      "Third number:  3\n"
     ]
    }
   ],
   "source": [
    "value3 = float(input(\"Third number: \"))"
   ]
  },
  {
   "cell_type": "code",
   "execution_count": 7,
   "id": "9f59ccfa-aca9-4b7c-8f0e-249af77a4c1e",
   "metadata": {},
   "outputs": [
    {
     "name": "stdin",
     "output_type": "stream",
     "text": [
      "Fourth number:  4\n"
     ]
    }
   ],
   "source": [
    "value4 = float(input(\"Fourth number: \"))"
   ]
  },
  {
   "cell_type": "code",
   "execution_count": 9,
   "id": "0ebf3627-7a13-45f3-a291-0bb7dc51d8f4",
   "metadata": {},
   "outputs": [
    {
     "name": "stdin",
     "output_type": "stream",
     "text": [
      "Fifth number:  5\n"
     ]
    }
   ],
   "source": [
    "value5 = float(input(\"Fifth number: \"))"
   ]
  },
  {
   "cell_type": "code",
   "execution_count": 17,
   "id": "e18fc4c2-e82a-49ba-8641-9b1d5aa370ac",
   "metadata": {},
   "outputs": [
    {
     "name": "stdout",
     "output_type": "stream",
     "text": [
      "The mean is: 3.0\n"
     ]
    }
   ],
   "source": [
    "mean_value = (value1 + value2 + value3 + value4 + value5) / 5\n",
    "print(f\"The mean is: {mean_value}\")"
   ]
  },
  {
   "cell_type": "code",
   "execution_count": null,
   "id": "b2ae1e07-0bac-4872-bbbc-121dcc2df63e",
   "metadata": {},
   "outputs": [],
   "source": []
  },
  {
   "cell_type": "code",
   "execution_count": null,
   "id": "9e68d9ac-1aed-46a0-b72c-4d119078357b",
   "metadata": {},
   "outputs": [],
   "source": []
  }
 ],
 "metadata": {
  "kernelspec": {
   "display_name": "Python 3 (ipykernel)",
   "language": "python",
   "name": "python3"
  },
  "language_info": {
   "codemirror_mode": {
    "name": "ipython",
    "version": 3
   },
   "file_extension": ".py",
   "mimetype": "text/x-python",
   "name": "python",
   "nbconvert_exporter": "python",
   "pygments_lexer": "ipython3",
   "version": "3.12.4"
  }
 },
 "nbformat": 4,
 "nbformat_minor": 5
}
